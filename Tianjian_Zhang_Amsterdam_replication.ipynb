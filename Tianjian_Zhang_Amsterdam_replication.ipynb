{
  "nbformat": 4,
  "nbformat_minor": 0,
  "metadata": {
    "colab": {
      "provenance": [],
      "authorship_tag": "ABX9TyMLl0JiMW3A2MqmHqDIn3A3",
      "include_colab_link": true
    },
    "kernelspec": {
      "name": "python3",
      "display_name": "Python 3"
    },
    "language_info": {
      "name": "python"
    }
  },
  "cells": [
    {
      "cell_type": "markdown",
      "metadata": {
        "id": "view-in-github",
        "colab_type": "text"
      },
      "source": [
        "<a href=\"https://colab.research.google.com/github/sz549/Github_Intro_Guide/blob/Tianjian_Zhang_Amsterdam_replication/Tianjian_Zhang_Amsterdam_replication.ipynb\" target=\"_parent\"><img src=\"https://colab.research.google.com/assets/colab-badge.svg\" alt=\"Open In Colab\"/></a>"
      ]
    },
    {
      "cell_type": "markdown",
      "source": [
        "## My notes"
      ],
      "metadata": {
        "id": "13NKvSmRfzi6"
      }
    },
    {
      "cell_type": "markdown",
      "source": [
        "加权解决异方差？加权按照离4的距离去加权，越近的话权重越大\n"
      ],
      "metadata": {
        "id": "rtEofQSoZqb_"
      }
    },
    {
      "cell_type": "markdown",
      "source": [
        "$S=\\sum_{i=1}^n W_{i i} r_i{ }^2, \\quad W_{i i}=\\frac{1}{{\\sigma_i}^2}$"
      ],
      "metadata": {
        "id": "x16N9Hg1al2r"
      }
    },
    {
      "cell_type": "markdown",
      "source": [
        "离4越近，权重越大，当然最小的权重不能比0小"
      ],
      "metadata": {
        "id": "jzkflZKycCoG"
      }
    },
    {
      "cell_type": "markdown",
      "source": [
        "关于booked的假设？available+booked+bloced = 365"
      ],
      "metadata": {
        "id": "9wxBYtkdcH1p"
      }
    },
    {
      "cell_type": "markdown",
      "source": [
        "rd是一种因果推断的方法，简单来说就是对阈值两端分别进行某种回归，其中rd estimator指的是阈值处两组回归的垂直距离，se值得是rd estimator的standard error，按理说应该越小越好"
      ],
      "metadata": {
        "id": "Xr0YIs26frSV"
      }
    },
    {
      "cell_type": "markdown",
      "source": [
        "注意到在这个样本中score=4是低于平均值的，意味着可能分越低，越多（新）评论就会发生complaints？"
      ],
      "metadata": {
        "id": "3GO5_N4UgY40"
      }
    },
    {
      "cell_type": "markdown",
      "source": [
        "## Revised code"
      ],
      "metadata": {
        "id": "vnX4SOzIf36q"
      }
    },
    {
      "cell_type": "code",
      "source": [
        "!cd \"/content/data_rd/MyDrive/data_rd\"\n",
        "!git clone https://github.com/sz549/Github_Intro_Guide.git\n",
        "#!cd Github_Intro_Guide\n",
        "#!git lfs install\n",
        "#!git checkout Tianjian_Zhang_Amsterdam_replication\n",
        "!git add \"/content/data_rd/MyDrive/data_rd\""
      ],
      "metadata": {
        "colab": {
          "base_uri": "https://localhost:8080/"
        },
        "id": "5rEYZ8XRmMRJ",
        "outputId": "e86b85af-0131-4ec3-ae5c-6587be9c7446"
      },
      "execution_count": 29,
      "outputs": [
        {
          "output_type": "stream",
          "name": "stdout",
          "text": [
            "fatal: destination path 'Github_Intro_Guide' already exists and is not an empty directory.\n",
            "fatal: not a git repository (or any of the parent directories): .git\n"
          ]
        }
      ]
    },
    {
      "cell_type": "code",
      "source": [
        "from google.colab import drive\n",
        "drive.mount('/content/data_rd')"
      ],
      "metadata": {
        "colab": {
          "base_uri": "https://localhost:8080/"
        },
        "id": "GJ3jiuyKE5lq",
        "outputId": "fb41e8dc-8323-4c62-ceea-60f015a85ae1"
      },
      "execution_count": 10,
      "outputs": [
        {
          "output_type": "stream",
          "name": "stdout",
          "text": [
            "Drive already mounted at /content/data_rd; to attempt to forcibly remount, call drive.mount(\"/content/data_rd\", force_remount=True).\n"
          ]
        }
      ]
    },
    {
      "cell_type": "code",
      "execution_count": 18,
      "metadata": {
        "colab": {
          "base_uri": "https://localhost:8080/"
        },
        "id": "EuzdhtgWENR7",
        "outputId": "dfa087fb-4b22-4262-d12c-649724803995"
      },
      "outputs": [
        {
          "output_type": "stream",
          "name": "stdout",
          "text": [
            "['listings (2).csv', 'listings (3).csv', 'listings (4).csv', 'listings (5).csv']\n",
            "       id                          listing_url       scrape_id last_scraped  \\\n",
            "0  108061  https://www.airbnb.com/rooms/108061  20221221041414   2022-12-21   \n",
            "1  155305  https://www.airbnb.com/rooms/155305  20221221041414   2022-12-21   \n",
            "2  156805  https://www.airbnb.com/rooms/156805  20221221041414   2022-12-21   \n",
            "3  156926  https://www.airbnb.com/rooms/156926  20221221041414   2022-12-21   \n",
            "4  197263  https://www.airbnb.com/rooms/197263  20221221041414   2022-12-21   \n",
            "\n",
            "            source                                               name  \\\n",
            "0      city scrape  Walk to stores/parks/downtown. Fenced yard/Pet...   \n",
            "1      city scrape                 Cottage! BonPaul + Sharky's Hostel   \n",
            "2  previous scrape                  Private Room \"Ader\" at BPS Hostel   \n",
            "3      city scrape             Mixed Dorm \"Top Bunk #1\" at BPS Hostel   \n",
            "4      city scrape                       Tranquil Room & Private Bath   \n",
            "\n",
            "                                         description  \\\n",
            "0  Walk to town in ten minutes! Monthly rental $1...   \n",
            "1  <b>The space</b><br />Pet friendly private cot...   \n",
            "2  <b>The space</b><br />Private Rooms at Bon Pau...   \n",
            "3  This is a top bunk in the mixed dorm room<br /...   \n",
            "4  This is a comfy, peaceful and clean room with ...   \n",
            "\n",
            "                               neighborhood_overview  \\\n",
            "0  I love my neighborhood! Its friendly, easy-goi...   \n",
            "1  We are within easy walk of pubs, breweries, mu...   \n",
            "2  Easy walk to pubs, cafes, bakery, breweries, l...   \n",
            "3                                                NaN   \n",
            "4                                                NaN   \n",
            "\n",
            "                                         picture_url  host_id  ...  \\\n",
            "0  https://a0.muscache.com/pictures/miso/Hosting-...   320564  ...   \n",
            "1  https://a0.muscache.com/pictures/8880711/cf38d...   746673  ...   \n",
            "2  https://a0.muscache.com/pictures/23447d55-fa7e...   746673  ...   \n",
            "3  https://a0.muscache.com/pictures/98f4e655-c4d6...   746673  ...   \n",
            "4  https://a0.muscache.com/pictures/miso/Hosting-...   961396  ...   \n",
            "\n",
            "  review_scores_communication review_scores_location review_scores_value  \\\n",
            "0                        4.80                   4.84                4.48   \n",
            "1                        4.74                   4.93                4.54   \n",
            "2                        4.61                   4.84                4.46   \n",
            "3                        4.79                   4.79                4.79   \n",
            "4                        4.92                   4.82                4.98   \n",
            "\n",
            "  license instant_bookable calculated_host_listings_count  \\\n",
            "0     NaN                f                              2   \n",
            "1     NaN                f                              7   \n",
            "2     NaN                t                              7   \n",
            "3     NaN                t                              7   \n",
            "4     NaN                f                              2   \n",
            "\n",
            "  calculated_host_listings_count_entire_homes  \\\n",
            "0                                           2   \n",
            "1                                           1   \n",
            "2                                           1   \n",
            "3                                           1   \n",
            "4                                           1   \n",
            "\n",
            "  calculated_host_listings_count_private_rooms  \\\n",
            "0                                            0   \n",
            "1                                            2   \n",
            "2                                            2   \n",
            "3                                            2   \n",
            "4                                            1   \n",
            "\n",
            "  calculated_host_listings_count_shared_rooms reviews_per_month  \n",
            "0                                           0              0.66  \n",
            "1                                           4              2.70  \n",
            "2                                           4              0.49  \n",
            "3                                           4              2.32  \n",
            "4                                           0              0.52  \n",
            "\n",
            "[5 rows x 75 columns]\n",
            "Row count: 12780\n",
            "List of columns in the DataFrame:\n",
            "id\n",
            "listing_url\n",
            "scrape_id\n",
            "last_scraped\n",
            "source\n",
            "name\n",
            "description\n",
            "neighborhood_overview\n",
            "picture_url\n",
            "host_id\n",
            "host_url\n",
            "host_name\n",
            "host_since\n",
            "host_location\n",
            "host_about\n",
            "host_response_time\n",
            "host_response_rate\n",
            "host_acceptance_rate\n",
            "host_is_superhost\n",
            "host_thumbnail_url\n",
            "host_picture_url\n",
            "host_neighbourhood\n",
            "host_listings_count\n",
            "host_total_listings_count\n",
            "host_verifications\n",
            "host_has_profile_pic\n",
            "host_identity_verified\n",
            "neighbourhood\n",
            "neighbourhood_cleansed\n",
            "neighbourhood_group_cleansed\n",
            "latitude\n",
            "longitude\n",
            "property_type\n",
            "room_type\n",
            "accommodates\n",
            "bathrooms\n",
            "bathrooms_text\n",
            "bedrooms\n",
            "beds\n",
            "amenities\n",
            "price\n",
            "minimum_nights\n",
            "maximum_nights\n",
            "minimum_minimum_nights\n",
            "maximum_minimum_nights\n",
            "minimum_maximum_nights\n",
            "maximum_maximum_nights\n",
            "minimum_nights_avg_ntm\n",
            "maximum_nights_avg_ntm\n",
            "calendar_updated\n",
            "has_availability\n",
            "availability_30\n",
            "availability_60\n",
            "availability_90\n",
            "availability_365\n",
            "calendar_last_scraped\n",
            "number_of_reviews\n",
            "number_of_reviews_ltm\n",
            "number_of_reviews_l30d\n",
            "first_review\n",
            "last_review\n",
            "review_scores_rating\n",
            "review_scores_accuracy\n",
            "review_scores_cleanliness\n",
            "review_scores_checkin\n",
            "review_scores_communication\n",
            "review_scores_location\n",
            "review_scores_value\n",
            "license\n",
            "instant_bookable\n",
            "calculated_host_listings_count\n",
            "calculated_host_listings_count_entire_homes\n",
            "calculated_host_listings_count_private_rooms\n",
            "calculated_host_listings_count_shared_rooms\n",
            "reviews_per_month\n",
            "Number of unique IDs: 3862\n",
            "Number of listings per host:\n",
            "167186184    460\n",
            "96187307     202\n",
            "121681645    161\n",
            "134903005    129\n",
            "443139360    116\n",
            "            ... \n",
            "112460914      1\n",
            "12035130       1\n",
            "16621918       1\n",
            "397960562      1\n",
            "127164454      1\n",
            "Name: host_id, Length: 2374, dtype: int64\n",
            "Number of unique hosts: 2374\n",
            "Summary statistics for mean, 50% (median), min, and max:\n",
            "      number_of_reviews  review_scores_rating         price  new_review  \\\n",
            "mean          96.447966              4.541581    191.260485    3.909233   \n",
            "50%           48.000000              4.930000    134.000000    1.000000   \n",
            "min            0.000000              0.000000     10.000000   -2.000000   \n",
            "max         1234.000000              5.000000  64452.000000   73.000000   \n",
            "\n",
            "        new_book  entrant_host  \n",
            "mean    4.696166      0.011111  \n",
            "50%     0.000000      0.000000  \n",
            "min  -359.000000      0.000000  \n",
            "max   365.000000      1.000000  \n"
          ]
        }
      ],
      "source": [
        "import os\n",
        "import pandas as pd\n",
        "#import gzip\n",
        "import matplotlib.pyplot as plt\n",
        "import ast\n",
        "import numpy as np\n",
        "\n",
        "# Path to the directory containing the files. Change the city to the city you choose.\n",
        "directory = '/content/data_rd/MyDrive/data_rd/'\n",
        "#file_path = os.path.join(directory, 'listings.csv')\n",
        "# Initialize an empty list to store the dataframes\n",
        "dataframes = []\n",
        "print(os.listdir(directory))\n",
        "#Loop over the files in the directory\n",
        "#for i in range():\n",
        "   # if filename.endswith('.csv'):\n",
        "        # Extract the date from the filename\n",
        "      #  date = filename.split('_')[1]\n",
        "\n",
        "        # Create the file path\n",
        "file_path2 = os.path.join(directory, 'listings (2).csv')\n",
        "file_path3 = os.path.join(directory, 'listings (3).csv')\n",
        "file_path4 = os.path.join(directory, 'listings (4).csv')\n",
        "file_path5 = os.path.join(directory, 'listings (5).csv')\n",
        "        # Read the csv file\n",
        "with open(file_path5, 'rt', encoding='utf-8') as f:\n",
        "    df = pd.read_csv(f)\n",
        "\n",
        "            # Append the dataframe to the list\n",
        "    dataframes.append(df)\n",
        "\n",
        "        # Read the csv file\n",
        "with open(file_path4, 'rt', encoding='utf-8') as f:\n",
        "    df = pd.read_csv(f)\n",
        "\n",
        "            # Append the dataframe to the list\n",
        "    dataframes.append(df)\n",
        "with open(file_path3, 'rt', encoding='utf-8') as f:\n",
        "    df = pd.read_csv(f)\n",
        "\n",
        "            # Append the dataframe to the list\n",
        "    dataframes.append(df)\n",
        "\n",
        "with open(file_path2, 'rt', encoding='utf-8') as f:\n",
        "    df = pd.read_csv(f)\n",
        "\n",
        "            # Append the dataframe to the list\n",
        "    dataframes.append(df)\n",
        "\n",
        "\n",
        "\n",
        "\n",
        "# Concatenate the dataframes\n",
        "all_data = pd.concat(dataframes, ignore_index=True)\n",
        "\n",
        "# Print the head and row count\n",
        "print(all_data.head())\n",
        "print(f'Row count: {len(all_data)}')\n",
        "\n",
        "# Count the number of unique IDs\n",
        "unique_id_count = all_data['id'].nunique()\n",
        "\n",
        "# Get the list of all columns\n",
        "columns_list = all_data.columns.tolist()\n",
        "\n",
        "# Print the list of columns\n",
        "print(\"List of columns in the DataFrame:\")\n",
        "for column in columns_list:\n",
        "    print(column)\n",
        "\n",
        "# Print the results\n",
        "print(f'Number of unique IDs: {unique_id_count}')\n",
        "\n",
        "#Keep only the columns you are interested in\n",
        "columns_to_keep = ['id', 'last_scraped', 'host_id', 'host_listings_count', 'host_total_listings_count', 'availability_365', 'number_of_reviews',\n",
        "                   'number_of_reviews_ltm', 'review_scores_rating', 'reviews_per_month', 'neighbourhood_cleansed',\n",
        "                   'host_is_superhost', 'host_since', 'host_response_time', 'host_response_rate', 'property_type', 'room_type',\n",
        "                   'accommodates', 'bathrooms', 'bedrooms', 'beds', 'amenities', 'price', 'availability_30', 'availability_60',\n",
        "                   'availability_90']\n",
        "all_data = all_data[columns_to_keep]\n",
        "\n",
        "\n",
        "# Remove both dollar signs and commas from the 'price' column before converting to float, then to integer\n",
        "all_data['price'] = all_data['price'].replace({'\\$': '', ',': ''}, regex=True).astype(float).astype(int)\n",
        "\n",
        "# Convert stringified lists into actual lists\n",
        "all_data['amenities'] = all_data['amenities'].apply(lambda x: ast.literal_eval(x) if isinstance(x, str) else x)\n",
        "\n",
        "# Flatten the list of amenities into a single list and count the occurrences of each amenity\n",
        "amenities_flat_list = [amenity for sublist in all_data['amenities'] for amenity in sublist]\n",
        "amenities_counts = pd.Series(amenities_flat_list).value_counts()\n",
        "\n",
        "# Get the top 20 most frequent amenities\n",
        "top_20_amenities = amenities_counts.nlargest(20).index.tolist()\n",
        "\n",
        "# Create dummy variables for the top 20 amenities\n",
        "for amenity in top_20_amenities:\n",
        "    all_data[amenity] = all_data['amenities'].apply(lambda x: int(amenity in x))\n",
        "\n",
        "# Drop the original 'amenities' column if it's no longer needed\n",
        "all_data.drop('amenities', axis=1, inplace=True)\n",
        "\n",
        "# Sort the DataFrame by 'last_scraped' in descending order to get the latest date first\n",
        "all_data_sorted = all_data.sort_values('last_scraped', ascending=False)\n",
        "\n",
        "# Get the date prior to the earliest 'last_scraped' date in the DataFrame\n",
        "if len(all_data_sorted['last_scraped']) > 1:\n",
        "    # Use the second to last date as the reference date\n",
        "    reference_date = all_data_sorted['last_scraped'].iloc[-2]\n",
        "else:\n",
        "    # If there's only one date, use the date three months prior as the reference date\n",
        "    reference_date = all_data_sorted['last_scraped'].iloc[-1] - pd.DateOffset(months=3)\n",
        "\n",
        "all_data['previous_scraped_date'] = reference_date\n",
        "# Now, you can use reference_date as needed in your logic\n",
        "# For example, to generate 'entrant_host' where it equals 1 if 'host_since' is later than the 'reference_date'\n",
        "all_data['entrant_host'] = (all_data['host_since'] > reference_date).astype(int)\n",
        "\n",
        "# create a new column book_365\n",
        "#认为不是availabile就是book，数据的假设应该是还可能有blocked\n",
        "all_data['book_365'] = 365 - all_data['availability_365']\n",
        "\n",
        "# Generate new_review\n",
        "all_data['new_review'] = all_data.groupby('id')['number_of_reviews'].diff()\n",
        "#all_data['new_review']= all_data['number_of_reviews_ltm']\n",
        "all_data['new_book'] = all_data.groupby('id')['book_365'].diff()\n",
        "\n",
        "# Show the resulting DataFrame\n",
        "all_data.head()\n",
        "\n",
        "# List of columns to check for NaN values\n",
        "columns_to_check = ['price']\n",
        "\n",
        "# Drop rows where NaN values are present in any of the specified columns\n",
        "# all_data = all_data.dropna(subset=columns_to_check)\n",
        "all_data = all_data.fillna(0)\n",
        "\n",
        "\n",
        "# After dropping NaN values, you may also want to reset the index\n",
        "all_data = all_data.reset_index(drop=True)\n",
        "\n",
        "# Save the DataFrame to a CSV file without the index\n",
        "all_data.to_csv('Amsterdam_listing.csv', index=False)\n",
        "\n",
        "\n",
        "# Print the number of listings per host\n",
        "listings_per_host = all_data['host_id'].value_counts()\n",
        "print('Number of listings per host:')\n",
        "print(listings_per_host)\n",
        "\n",
        "# Print the number of unique hosts\n",
        "unique_hosts = all_data['host_id'].nunique()\n",
        "print(f'Number of unique hosts: {unique_hosts}')\n",
        "\n",
        "# Calculate summary statistics for the specified columns\n",
        "summary_stats = all_data[['number_of_reviews', 'review_scores_rating', 'price', 'new_review', 'new_book', 'entrant_host']].describe()\n",
        "\n",
        "# Select only the rows for mean, 50%, min, and max\n",
        "summary_stats = summary_stats.loc[['mean', '50%', 'min', 'max']]\n",
        "\n",
        "# Print the summary statistics\n",
        "print('Summary statistics for mean, 50% (median), min, and max:')\n",
        "print(summary_stats)\n",
        "\n"
      ]
    },
    {
      "cell_type": "code",
      "source": [
        "from google.colab import drive\n",
        "drive.mount('/content/drive')"
      ],
      "metadata": {
        "id": "aXUZAqJeAmCI"
      },
      "execution_count": null,
      "outputs": []
    },
    {
      "cell_type": "code",
      "source": [
        "import pandas as pd\n",
        "import numpy as np\n",
        "import statsmodels.api as sm\n",
        "import matplotlib.pyplot as plt\n",
        "\n",
        "# Sample data loading for New York listings\n",
        "all_data = pd.read_csv('/content/Amsterdam_listing.csv')\n",
        "\n",
        "#print(len(all_data['price']))\n",
        "# Ensure 'price' is a float and remove any non-numeric characters like dollar signs\n",
        "all_data['price'] = all_data['price'].replace('[\\$,]', '', regex=True).astype(float)\n",
        "\n",
        "# Change the dependent variable to the log of 'number_of_reviews'\n",
        "all_data['log_new_review'] = np.log(all_data['new_review'] + 1)\n",
        "\n",
        "dependent_var = 'new_review'  # Now using log of the original dependent variable\n",
        "\n",
        "# Define a kernel function for weights, triangular kernel as an example\n",
        "def triangular_kernel(x, bandwidth):\n",
        "    return np.maximum(1 - np.abs(x) / bandwidth, 0) # You can change this to 'price' or any other variable as needed\n",
        "\n",
        "# Filter data to keep only observations close to the thresholds\n",
        "thresholds = [4]\n",
        "bandwidth = 0.18  # adjust the bandwidth as needed\n",
        "\n",
        "# Run the regression for each threshold\n",
        "for threshold in thresholds:\n",
        "    data_threshold = all_data[(all_data['review_scores_rating'] >= threshold - bandwidth) &\n",
        "                              (all_data['review_scores_rating'] <= threshold + bandwidth)].copy()\n",
        "\n",
        "    data_threshold['above_threshold'] = (data_threshold['review_scores_rating'] > threshold).astype(int)\n",
        "\n",
        "    # Calculate the distance from the threshold for each observation\n",
        "    data_threshold['distance'] = data_threshold['review_scores_rating'] - threshold\n",
        "\n",
        "    # Apply the kernel function to get weights\n",
        "    data_threshold['weights'] = triangular_kernel(data_threshold['distance'], bandwidth)\n",
        "\n",
        "    # Check if there are enough observations on both sides of the threshold\n",
        "    if len(data_threshold[data_threshold['above_threshold'] == 0]) > 0 and len(\n",
        "            data_threshold[data_threshold['above_threshold'] == 1]) > 0:\n",
        "        # Run the weighted regression including 'price' as a control variable\n",
        "        X = data_threshold[['review_scores_rating', 'above_threshold', 'price']]\n",
        "        X = sm.add_constant(X)\n",
        "        y = data_threshold[dependent_var]\n",
        "        weights = data_threshold['weights']\n",
        "        model = sm.WLS(y, X, weights=weights).fit()\n",
        "\n",
        "        # Get the RD estimate and its standard error\n",
        "        rd_estimate = model.params['above_threshold']\n",
        "        rd_se = model.bse['above_threshold']\n",
        "        print(f'Threshold {threshold}: RD Estimate = {rd_estimate}, Standard Error = {rd_se}')\n",
        "\n",
        "        # Generate predictions for plotting\n",
        "        x_plot = np.linspace(threshold - bandwidth, threshold + bandwidth, 100)\n",
        "        mean_price = data_threshold['price'].mean()\n",
        "        # Calculate the mean price for the control variable\n",
        "\n",
        "        # Create the above threshold binary indicator for the prediction data\n",
        "        above_threshold_plot = (x_plot > threshold).astype(int)\n",
        "\n",
        "        # Stack the x_plot, above_threshold_plot, and mean_price into x_plot_with_constant\n",
        "        # You should have a column for the intercept (constant), review_scores_rating, above_threshold, and price\n",
        "        x_plot_with_constant = sm.add_constant(np.column_stack((x_plot, above_threshold_plot)))\n",
        "        # Add a column with the mean price for the prediction\n",
        "        x_plot_with_constant = np.insert(x_plot_with_constant, x_plot_with_constant.shape[1], mean_price, axis=1)\n",
        "\n",
        "        # Ensure the shape of x_plot_with_constant matches the number of parameters in the model\n",
        "        if x_plot_with_constant.shape[1] != len(model.params):\n",
        "            raise ValueError(\n",
        "                f\"The shape of x_plot_with_constant {x_plot_with_constant.shape} does not match the number of parameters in the model {len(model.params)}.\")\n",
        "\n",
        "        # If the shapes match, make predictions\n",
        "        y_plot = model.predict(x_plot_with_constant)\n",
        "\n",
        "        # Plot the results\n",
        "        plt.figure()\n",
        "        plt.scatter(data_threshold['review_scores_rating'], data_threshold[dependent_var], color='grey', alpha=0.5)\n",
        "        plt.plot(x_plot, y_plot, color='blue', label='Fitted Line')\n",
        "        plt.axvline(x=threshold, color='black', linestyle='--')\n",
        "        plt.xlabel('Review Scores Rating')\n",
        "        plt.ylabel(dependent_var.replace('_', ' ').title())\n",
        "        plt.title(f'Regression Discontinuity at Threshold {threshold}')\n",
        "\n",
        "        # Print the RD estimate and SE on the graph\n",
        "        plt.text(threshold, max(y_plot) * 0.9, f'RD Estimate = {rd_estimate:.3f}\\nSE = {rd_se:.3f}', fontsize=9)\n",
        "\n",
        "        plt.legend()\n",
        "     #   plt.savefig(f'output/figure/rating_rd_{threshold}.png', bbox_inches='tight')"
      ],
      "metadata": {
        "colab": {
          "base_uri": "https://localhost:8080/",
          "height": 581
        },
        "id": "GgJlKxQdEzZo",
        "outputId": "c9deea5f-da89-42b5-b557-128e6c6927ac"
      },
      "execution_count": 19,
      "outputs": [
        {
          "output_type": "stream",
          "name": "stderr",
          "text": [
            "/usr/local/lib/python3.10/dist-packages/pandas/core/arraylike.py:402: RuntimeWarning: divide by zero encountered in log\n",
            "  result = getattr(ufunc, method)(*inputs, **kwargs)\n",
            "/usr/local/lib/python3.10/dist-packages/pandas/core/arraylike.py:402: RuntimeWarning: invalid value encountered in log\n",
            "  result = getattr(ufunc, method)(*inputs, **kwargs)\n"
          ]
        },
        {
          "output_type": "stream",
          "name": "stdout",
          "text": [
            "Threshold 4: RD Estimate = 1.4943373780241977, Standard Error = 1.1054622298165757\n"
          ]
        },
        {
          "output_type": "display_data",
          "data": {
            "text/plain": [
              "<Figure size 640x480 with 1 Axes>"
            ],
            "image/png": "[encoded data removed]"
          },
          "metadata": {}
        }
      ]
    }
  ]
}